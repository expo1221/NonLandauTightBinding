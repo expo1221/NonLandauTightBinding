{
 "cells": [
  {
   "cell_type": "code",
   "execution_count": 1,
   "id": "4db8eee2-31a2-4273-bacf-a6c4528c983d",
   "metadata": {},
   "outputs": [],
   "source": [
    "from TightBinding import *"
   ]
  },
  {
   "cell_type": "markdown",
   "id": "629b6da9-caae-4d60-83ec-74228260dcc1",
   "metadata": {},
   "source": [
    "Basic Crystals are defined in the TightBinding.py"
   ]
  },
  {
   "cell_type": "code",
   "execution_count": 2,
   "id": "15d541e0-1607-4c55-9bd6-5ae83311f2b0",
   "metadata": {},
   "outputs": [
    {
     "data": {
      "text/plain": [
       "<TightBinding.TB at 0x20a20a065b0>"
      ]
     },
     "execution_count": 2,
     "metadata": {},
     "output_type": "execute_result"
    }
   ],
   "source": [
    "Square"
   ]
  },
  {
   "cell_type": "code",
   "execution_count": 3,
   "id": "5b318a58-5ea2-4950-a469-6386fd811abc",
   "metadata": {},
   "outputs": [
    {
     "data": {
      "text/plain": [
       "<TightBinding.TB at 0x20a116d7f10>"
      ]
     },
     "execution_count": 3,
     "metadata": {},
     "output_type": "execute_result"
    }
   ],
   "source": [
    "Honeycomb"
   ]
  },
  {
   "cell_type": "code",
   "execution_count": 4,
   "id": "4313efb6-8392-44a1-8b9a-18c5dd7440a8",
   "metadata": {},
   "outputs": [
    {
     "data": {
      "text/plain": [
       "<TightBinding.TB at 0x20a323f7e20>"
      ]
     },
     "execution_count": 4,
     "metadata": {},
     "output_type": "execute_result"
    }
   ],
   "source": [
    "Kagome"
   ]
  },
  {
   "cell_type": "code",
   "execution_count": 5,
   "id": "bb9d4733-efde-453c-8d21-bd26441c8c4a",
   "metadata": {},
   "outputs": [
    {
     "data": {
      "text/plain": [
       "<TightBinding.TB at 0x20a116d7ee0>"
      ]
     },
     "execution_count": 5,
     "metadata": {},
     "output_type": "execute_result"
    }
   ],
   "source": [
    "Triangle"
   ]
  },
  {
   "cell_type": "markdown",
   "id": "fec60246-10a5-4cbe-950e-a9a0a3544aed",
   "metadata": {},
   "source": [
    "Graphene model is also given. For Graphene and moireTBG model (below), the hopping is given as follows, according to the reference (Moon, P., & Koshino, M. (2012). Energy spectrum and quantum Hall effect in twisted bilayer graphene. Physical Review B—Condensed Matter and Materials Physics, 85(19), 195458.)"
   ]
  },
  {
   "cell_type": "markdown",
   "id": "7f9ff6c4-5280-4a08-856a-39edf00b7413",
   "metadata": {},
   "source": [
    "\\begin{equation}\\begin{split}\n",
    "t(\\vec{R}_i,\\vec{R}_j) &=V_{pp\\pi}[1-(\\hat{d}\\cdot \\vec{e}_z)^2]+ V_{pp\\sigma}(\\hat{d}\\cdot \\vec{e}_z)^2,\n",
    "\\\\\n",
    "V_{pp\\pi} &=V_{pp\\pi}^0 \\exp (-\\frac{d-a_0}{\\delta}),\n",
    "\\\\\n",
    "V_{pp\\sigma} &=V_{pp\\sigma}^0 \\exp (-\\frac{d-a_0}{\\delta}),\n",
    "\\\\\n",
    "\\vec{d} &=\\vec{R}_i-\\vec{R}_j,~V_{pp\\pi}^0 \\sim 2.7eV,~V_{pp\\sigma}^0\\sim-0.48eV,~a_0\\sim0.142nm,~\\delta\\sim0.335nm\n",
    "\\end{split}\\end{equation}"
   ]
  },
  {
   "cell_type": "markdown",
   "id": "cbd00fc1-6e0c-413e-9842-8928b654ebe5",
   "metadata": {},
   "source": [
    "In our Graphene model, the unit of all lengths are $a_0$."
   ]
  },
  {
   "cell_type": "code",
   "execution_count": 6,
   "id": "339b2c64-dd22-4204-a7fc-df7bd435da21",
   "metadata": {},
   "outputs": [
    {
     "data": {
      "text/plain": [
       "<TightBinding.TB at 0x20a116d79d0>"
      ]
     },
     "execution_count": 6,
     "metadata": {},
     "output_type": "execute_result"
    }
   ],
   "source": [
    "Graphene"
   ]
  },
  {
   "cell_type": "markdown",
   "id": "e4a979c2-7733-4c19-b205-821590f8c627",
   "metadata": {},
   "source": [
    "moireTBG (Twisted Bilayer Graphene whose commensurability periodicity matches the moire periodicity) model is also given. Given an odd positive number $t$ corresponding to the twist angle $\\theta$, the model is defined as follows, $\\vec{e}_1$ and $\\vec{e}_2 = R_{\\pi /3} \\vec{e}_1$ are primitive vectors of the first graphene, and $\\vec{e}_1' = R_{\\theta} \\vec{e}_1$ and $\\vec{e}_2' = R_{\\theta} \\vec{e}_2$ are primitive vectors of the second graphene which was rotated anti-clockwise with the twisted angle $\\theta$."
   ]
  },
  {
   "cell_type": "markdown",
   "id": "e0e04ca1-a971-49ac-b8ca-c773bddd45c6",
   "metadata": {},
   "source": [
    "\\begin{equation}\\begin{split}\n",
    "\\theta=\\cos^{-1} \\dfrac{3t^2-1}{3t^2+1},~D=\\dfrac{2}{3(3t^2+1)}\\Big(\\begin{matrix}1& \\\\ 1&3\\end{matrix}\\Big),~N_{atom}=3t^2+1,\n",
    "\\\\\n",
    "V=\\Big(\\begin{matrix}\\vec{e}_1 & \\vec{e}_2\\end{matrix}\\Big)\\Big(\\begin{matrix}-1-t & -2t \\\\ 2t & -1+t\\end{matrix}\\Big) = \\Big(\\begin{matrix}\\vec{e}_1' & \\vec{e}_2'\\end{matrix}\\Big) \\Big(\\begin{matrix}1-t & -2t \\\\ 2t & 1+t\\end{matrix}\\Big),\n",
    "\\end{split}\\end{equation}"
   ]
  },
  {
   "cell_type": "code",
   "execution_count": 7,
   "id": "a84ae9db-7608-4eae-8580-ce309d7d54d4",
   "metadata": {},
   "outputs": [
    {
     "data": {
      "text/plain": [
       "<TightBinding.TB at 0x20a21e80f10>"
      ]
     },
     "execution_count": 7,
     "metadata": {},
     "output_type": "execute_result"
    }
   ],
   "source": [
    "t = 11\n",
    "moireTBG(t)"
   ]
  }
 ],
 "metadata": {
  "kernelspec": {
   "display_name": "Python 3 (ipykernel)",
   "language": "python",
   "name": "python3"
  },
  "language_info": {
   "codemirror_mode": {
    "name": "ipython",
    "version": 3
   },
   "file_extension": ".py",
   "mimetype": "text/x-python",
   "name": "python",
   "nbconvert_exporter": "python",
   "pygments_lexer": "ipython3",
   "version": "3.9.20"
  }
 },
 "nbformat": 4,
 "nbformat_minor": 5
}
