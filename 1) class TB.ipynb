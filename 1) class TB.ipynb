{
 "cells": [
  {
   "cell_type": "code",
   "execution_count": 1,
   "id": "f3ff118b-47c3-447e-9c27-ab37796545d7",
   "metadata": {},
   "outputs": [],
   "source": [
    "from TightBinding import *"
   ]
  },
  {
   "cell_type": "markdown",
   "id": "fd22671b-388f-4a4a-b638-ad5b0ac2db44",
   "metadata": {},
   "source": [
    "# class TB"
   ]
  },
  {
   "cell_type": "markdown",
   "id": "67e5d941-96f7-41e1-88b8-21e3d1131fd1",
   "metadata": {},
   "source": [
    "## __init__"
   ]
  },
  {
   "cell_type": "markdown",
   "id": "fb312112-032e-4b94-be38-620e4ec4b331",
   "metadata": {},
   "source": [
    "An instance of TB class is a Tight-binding crystal."
   ]
  },
  {
   "cell_type": "markdown",
   "id": "0202bdf1-2b63-4aab-b867-f51af2a784a3",
   "metadata": {},
   "source": [
    "You should enter the matrix of lattice vectors, dictionary of atom positions, and set of hopping configurations as an arguments. Also, you should indicate whether the model is symbolic or not. (default: symbolic=True)"
   ]
  },
  {
   "cell_type": "markdown",
   "id": "9f72cf47-c268-47af-bfe7-b9d02a9981e6",
   "metadata": {},
   "source": [
    "Hopping configuration is given as (start atom, end atom, unit cell index for hopping, hopping energy). \n",
    "\n",
    "Start atom and end atom is indicated with the string used for the dictionary 'atoms'. If the given string is not a key of the dictionary 'atoms', Exception is raised.\n",
    "\n",
    "You should enter \"one-way\". The reverse direction is given automatically."
   ]
  },
  {
   "cell_type": "markdown",
   "id": "a96a1a48-0e50-41a5-b443-89fab9f75f6a",
   "metadata": {},
   "source": [
    "String can be given as inputs. Especially, to use the symbolic math, you should give the \"exact\" value using strings."
   ]
  },
  {
   "cell_type": "code",
   "execution_count": 2,
   "id": "3b93f7d9-4090-4ad9-91b5-eae50972b26a",
   "metadata": {},
   "outputs": [],
   "source": [
    "lattice = [['3/2','sqrt(3)/2'],[0,'sqrt(3)']]\n",
    "atoms = {'A':[0,0],'B':[1,'sqrt(3)']}\n",
    "hops = {('B','A',(1,0),1),('B','A',(0,1),1),('B','A',(1,1),1)}\n",
    "\n",
    "TBmodel = TB (lattice, atoms, hops, symbolic = True)"
   ]
  },
  {
   "cell_type": "markdown",
   "id": "af2e4556-8e59-4680-9235-07815db2f2e1",
   "metadata": {},
   "source": [
    "Following is how textbook crystals can be defined. (These are all defined in TightBinding.py)"
   ]
  },
  {
   "cell_type": "code",
   "execution_count": 3,
   "id": "753ebf5b-7b4d-4877-9825-0d701a053424",
   "metadata": {},
   "outputs": [],
   "source": [
    "Square = TB([[1,0],[0,1]], {'A':[0,0]}, {('A','A',(1,0),1),('A','A',(0,1),1)})\n",
    "Triangle = TB([[1,0],['1/2','sqrt(3)/2']], {'A':[0,0]}, {('A','A',(1,0),1),('A','A',(0,1),1),('A','A',(1,-1),1)})\n",
    "Honeycomb = TB([['3/2','sqrt(3)/2'],[0,'sqrt(3)']], {'A':[0,0],'B':[1,'sqrt(3)']}, {('B','A',(1,0),1),('B','A',(0,1),1),('B','A',(1,1),1)})\n",
    "Kagome = TB([[2,0],[1,'sqrt(3)']], {'A':[0,0],'B':[1,0],'C':['1/2','sqrt(3)/2']}, {('A','B',(0,0),1),('A','C',(0,0),1),('B','C',(0,0),1),('B','A',(1,0),1),('B','C',(1,-1),1),('C','A',(0,1),1)})"
   ]
  },
  {
   "cell_type": "markdown",
   "id": "cf8ef0d1-6eea-4b15-86c9-cf35575ecf36",
   "metadata": {},
   "source": [
    "## Attributes"
   ]
  },
  {
   "cell_type": "markdown",
   "id": "edfa483d-32a2-4f48-bbc1-21e37ce5591a",
   "metadata": {},
   "source": [
    "You can find the entered arguments from its attributes."
   ]
  },
  {
   "cell_type": "markdown",
   "id": "80f5944c-c524-413d-b5ec-fee519994c02",
   "metadata": {},
   "source": [
    "### lattice"
   ]
  },
  {
   "cell_type": "markdown",
   "id": "9360c639-6558-48f4-8813-9d98237e3e28",
   "metadata": {},
   "source": [
    "The determinant of the matrix of lattice vectors should be positive."
   ]
  },
  {
   "cell_type": "code",
   "execution_count": 4,
   "id": "b693a336-b8b0-4f74-bc49-02c946a53632",
   "metadata": {},
   "outputs": [
    {
     "data": {
      "text/latex": [
       "$\\displaystyle \\left[\\begin{matrix}\\frac{3}{2} & 0\\\\\\frac{\\sqrt{3}}{2} & \\sqrt{3}\\end{matrix}\\right]$"
      ],
      "text/plain": [
       "Matrix([\n",
       "[      3/2,       0],\n",
       "[sqrt(3)/2, sqrt(3)]])"
      ]
     },
     "execution_count": 4,
     "metadata": {},
     "output_type": "execute_result"
    }
   ],
   "source": [
    "TBmodel.lattice"
   ]
  },
  {
   "cell_type": "markdown",
   "id": "1a10b124-f3a8-434b-9787-3a4a04405944",
   "metadata": {},
   "source": [
    "### atoms"
   ]
  },
  {
   "cell_type": "markdown",
   "id": "560c805f-2f9d-493e-878f-ba6f20d2a611",
   "metadata": {},
   "source": [
    "'atoms' is a dictionary.\n",
    "\n",
    "Key : (layer_num, name of the atom)\n",
    "\n",
    "Value : the position of the atom\n",
    "\n",
    "The position can be multi-dimensional (2+ entries). When we translate the crystal, the dimension is adjusted automatically. "
   ]
  },
  {
   "cell_type": "code",
   "execution_count": 5,
   "id": "7804dd96-4d63-4a9d-9c6a-86d8e9005463",
   "metadata": {},
   "outputs": [
    {
     "data": {
      "text/plain": [
       "{(0, 'A'): [0, 0], (0, 'B'): [1, sqrt(3)]}"
      ]
     },
     "execution_count": 5,
     "metadata": {},
     "output_type": "execute_result"
    }
   ],
   "source": [
    "TBmodel.atoms"
   ]
  },
  {
   "cell_type": "code",
   "execution_count": 6,
   "id": "1c9eb87e-7893-4e2c-bf97-bb90125e8cdb",
   "metadata": {},
   "outputs": [
    {
     "data": {
      "text/plain": [
       "{(0, 'A'): [1/2, 0, -1], (0, 'B'): [3/2, sqrt(3), -1]}"
      ]
     },
     "execution_count": 6,
     "metadata": {},
     "output_type": "execute_result"
    }
   ],
   "source": [
    "TBmodel.duplicated().translate(['1/2',0,'-1']).atoms"
   ]
  },
  {
   "cell_type": "markdown",
   "id": "26f49086-f899-4d6d-a431-e8d110be8ec8",
   "metadata": {},
   "source": [
    "### layers"
   ]
  },
  {
   "cell_type": "markdown",
   "id": "fc1a6f79-97e6-4f2d-97fa-59b09dc25de6",
   "metadata": {},
   "source": [
    "layers is a array showing which atoms are in each layer."
   ]
  },
  {
   "cell_type": "code",
   "execution_count": 7,
   "id": "4708fb7b-f0b8-400b-b02e-8b09409416a5",
   "metadata": {},
   "outputs": [
    {
     "data": {
      "text/plain": [
       "[{'A', 'B'}]"
      ]
     },
     "execution_count": 7,
     "metadata": {},
     "output_type": "execute_result"
    }
   ],
   "source": [
    "TBmodel.layers"
   ]
  },
  {
   "cell_type": "markdown",
   "id": "4c94b889-2501-4d35-9eb1-3937330c50d9",
   "metadata": {},
   "source": [
    "### hops"
   ]
  },
  {
   "cell_type": "code",
   "execution_count": 8,
   "id": "ab806518-1eb3-47aa-8c9e-f36996c9b0b4",
   "metadata": {},
   "outputs": [
    {
     "data": {
      "text/plain": [
       "{((0, 'B'), (0, 'A'), (0, 1), 1),\n",
       " ((0, 'B'), (0, 'A'), (1, 0), 1),\n",
       " ((0, 'B'), (0, 'A'), (1, 1), 1)}"
      ]
     },
     "execution_count": 8,
     "metadata": {},
     "output_type": "execute_result"
    }
   ],
   "source": [
    "TBmodel.hops"
   ]
  },
  {
   "cell_type": "markdown",
   "id": "5d3f61f5-dc55-469b-8329-12caa8e41dec",
   "metadata": {},
   "source": [
    "### symbolic"
   ]
  },
  {
   "cell_type": "markdown",
   "id": "9b778ce1-8da8-4b70-9b72-5fa97391f1b0",
   "metadata": {},
   "source": [
    "The attribute $symbolic$ indicates whether this TB model is symbolic or not. When symbolic = True (default), all relevant data is saved and used with symbolic math (sympy). When symbolic = False, all relevant data is saved and used in the floating numbers with numpy."
   ]
  },
  {
   "cell_type": "code",
   "execution_count": 9,
   "id": "c6286033-36a1-48bd-bb99-e798c5539164",
   "metadata": {},
   "outputs": [
    {
     "data": {
      "text/plain": [
       "True"
      ]
     },
     "execution_count": 9,
     "metadata": {},
     "output_type": "execute_result"
    }
   ],
   "source": [
    "TBmodel.symbolic"
   ]
  },
  {
   "cell_type": "markdown",
   "id": "aad22659-dfb7-4705-bf17-1ae01cfb9856",
   "metadata": {},
   "source": [
    "## Functions (Methods)"
   ]
  },
  {
   "cell_type": "markdown",
   "id": "a63be8dd-4752-46c8-837f-05ec087557be",
   "metadata": {},
   "source": [
    "### Hamiltonian(k)"
   ]
  },
  {
   "cell_type": "markdown",
   "id": "9102eb8a-469d-4e8a-8c4f-6f4ce752bc40",
   "metadata": {},
   "source": [
    "Given a two-dimensional k, this function generates a Hamiltonian. You should note that k is not the vector \"k\" itself, but the index of \"k\" represented with primitive vectors of the reciprocal space."
   ]
  },
  {
   "cell_type": "markdown",
   "id": "7adc4598-a2d3-49c2-a22e-16c2978eb42a",
   "metadata": {},
   "source": [
    "First element is the Hamiltonian.\n",
    "\n",
    "Second element is a dictionary matching the atom with the row/columns of the Hamiltonian"
   ]
  },
  {
   "cell_type": "code",
   "execution_count": 10,
   "id": "839dbf10-11d1-472a-9073-748ff7c213cd",
   "metadata": {},
   "outputs": [
    {
     "data": {
      "text/plain": [
       "[[[0, (1-2.4492935982947064e-16j)], [(1+2.4492935982947064e-16j), 0]],\n",
       " {(0, 'A'): 0, (0, 'B'): 1}]"
      ]
     },
     "execution_count": 10,
     "metadata": {},
     "output_type": "execute_result"
    }
   ],
   "source": [
    "TBmodel.Hamiltonian(['1/2',0])"
   ]
  },
  {
   "cell_type": "markdown",
   "id": "6c1504cc-c76a-477f-a3ef-60d0a84477a4",
   "metadata": {},
   "source": [
    "### getD()"
   ]
  },
  {
   "cell_type": "markdown",
   "id": "45934451-4774-416a-804c-86d2ce44bb90",
   "metadata": {},
   "source": [
    "You can compute the matrix D only when symbolic = True. For the definition of the matrix D, please refer to the paper. ()"
   ]
  },
  {
   "cell_type": "code",
   "execution_count": 11,
   "id": "c7299f18-1b5b-45b2-8cb3-5b156b34a4a5",
   "metadata": {},
   "outputs": [
    {
     "data": {
      "text/latex": [
       "$\\displaystyle \\left[\\begin{matrix}\\frac{1}{3} & 0\\\\\\frac{1}{3} & 1\\end{matrix}\\right]$"
      ],
      "text/plain": [
       "Matrix([\n",
       "[1/3, 0],\n",
       "[1/3, 1]])"
      ]
     },
     "execution_count": 11,
     "metadata": {},
     "output_type": "execute_result"
    }
   ],
   "source": [
    "TBmodel.getD()"
   ]
  },
  {
   "cell_type": "markdown",
   "id": "6d3c717e-a72e-4ff2-8a23-8c46cf8bcfd9",
   "metadata": {},
   "source": [
    "### symoff()"
   ]
  },
  {
   "cell_type": "markdown",
   "id": "4a48d181-d8a9-4a7a-a45a-204fb4567b25",
   "metadata": {},
   "source": [
    "You can switch-off the symbolic math with symoff() function. Then, the values are saved in floating points. Even though the matrix D can't be computed with non-symbolic math, the matrix D is not erased."
   ]
  },
  {
   "cell_type": "code",
   "execution_count": 12,
   "id": "f58c64d6-cf78-4df2-8180-ce5064e611c9",
   "metadata": {},
   "outputs": [],
   "source": [
    "symoffmodel = TBmodel.duplicated().symoff()"
   ]
  },
  {
   "cell_type": "code",
   "execution_count": 13,
   "id": "8bc8567b-e8e5-4279-b4fd-b38b1f5a012c",
   "metadata": {},
   "outputs": [
    {
     "data": {
      "text/plain": [
       "matrix([[1.5       , 0.        ],\n",
       "        [0.8660254 , 1.73205081]])"
      ]
     },
     "execution_count": 13,
     "metadata": {},
     "output_type": "execute_result"
    }
   ],
   "source": [
    "symoffmodel.lattice"
   ]
  },
  {
   "cell_type": "code",
   "execution_count": 14,
   "id": "8a729c43-2693-4f8d-8fd3-49e2824c8ffc",
   "metadata": {},
   "outputs": [
    {
     "data": {
      "text/plain": [
       "{(0, 'A'): [0.0, 0.0], (0, 'B'): [1.0, 1.7320508075688772]}"
      ]
     },
     "execution_count": 14,
     "metadata": {},
     "output_type": "execute_result"
    }
   ],
   "source": [
    "symoffmodel.atoms"
   ]
  },
  {
   "cell_type": "code",
   "execution_count": 15,
   "id": "915ceb04-4ce5-4c15-a5e3-e6e2bd7df321",
   "metadata": {},
   "outputs": [
    {
     "ename": "Exception",
     "evalue": "Exception in getD:Only symbolic TB can be used to get D",
     "output_type": "error",
     "traceback": [
      "\u001b[1;31m---------------------------------------------------------------------------\u001b[0m",
      "\u001b[1;31mException\u001b[0m                                 Traceback (most recent call last)",
      "Cell \u001b[1;32mIn[15], line 1\u001b[0m\n\u001b[1;32m----> 1\u001b[0m \u001b[43msymoffmodel\u001b[49m\u001b[38;5;241;43m.\u001b[39;49m\u001b[43mgetD\u001b[49m\u001b[43m(\u001b[49m\u001b[43m)\u001b[49m\n",
      "File \u001b[1;32m~\\TightBinding.py:118\u001b[0m, in \u001b[0;36mTB.getD\u001b[1;34m(self)\u001b[0m\n\u001b[0;32m    116\u001b[0m \u001b[38;5;28;01mdef\u001b[39;00m \u001b[38;5;21mgetD\u001b[39m(\u001b[38;5;28mself\u001b[39m):\n\u001b[0;32m    117\u001b[0m     \u001b[38;5;28;01mif\u001b[39;00m \u001b[38;5;28mself\u001b[39m\u001b[38;5;241m.\u001b[39msymbolic \u001b[38;5;129;01mis\u001b[39;00m \u001b[38;5;28;01mFalse\u001b[39;00m:\n\u001b[1;32m--> 118\u001b[0m         \u001b[38;5;28;01mraise\u001b[39;00m \u001b[38;5;167;01mException\u001b[39;00m(\u001b[38;5;124m'\u001b[39m\u001b[38;5;124mException in getD:Only symbolic TB can be used to get D\u001b[39m\u001b[38;5;124m'\u001b[39m)\n\u001b[0;32m    119\u001b[0m     \u001b[38;5;28;01mif\u001b[39;00m \u001b[38;5;28mself\u001b[39m\u001b[38;5;241m.\u001b[39mD \u001b[38;5;129;01mis\u001b[39;00m \u001b[38;5;129;01mnot\u001b[39;00m \u001b[38;5;28;01mNone\u001b[39;00m:\n\u001b[0;32m    120\u001b[0m         \u001b[38;5;28;01mreturn\u001b[39;00m \u001b[38;5;28mself\u001b[39m\u001b[38;5;241m.\u001b[39mD\n",
      "\u001b[1;31mException\u001b[0m: Exception in getD:Only symbolic TB can be used to get D"
     ]
    }
   ],
   "source": [
    "symoffmodel.getD()"
   ]
  },
  {
   "cell_type": "code",
   "execution_count": 16,
   "id": "108b8497-6565-4f5a-bcdf-6f0e5ab517a6",
   "metadata": {},
   "outputs": [
    {
     "data": {
      "text/latex": [
       "$\\displaystyle \\left[\\begin{matrix}\\frac{1}{3} & 0\\\\\\frac{1}{3} & 1\\end{matrix}\\right]$"
      ],
      "text/plain": [
       "Matrix([\n",
       "[1/3, 0],\n",
       "[1/3, 1]])"
      ]
     },
     "execution_count": 16,
     "metadata": {},
     "output_type": "execute_result"
    }
   ],
   "source": [
    "symoffmodel.D"
   ]
  },
  {
   "cell_type": "markdown",
   "id": "d75a7207-d914-4a9e-9dbd-677ca6ac51ef",
   "metadata": {},
   "source": [
    "### duplicated()"
   ]
  },
  {
   "cell_type": "markdown",
   "id": "6508b502-6547-415e-a1c7-99854d7f3225",
   "metadata": {},
   "source": [
    "You can make a copy of the model."
   ]
  },
  {
   "cell_type": "code",
   "execution_count": 17,
   "id": "f1914454-b98e-4463-aeb1-7ed8c1f912f8",
   "metadata": {},
   "outputs": [],
   "source": [
    "copied_model = TBmodel.duplicated()"
   ]
  },
  {
   "cell_type": "markdown",
   "id": "c314f16c-e02e-497e-bb0c-9175766e26d8",
   "metadata": {},
   "source": [
    "Since translate(), rotate(), and merge() change the original model, you should duplicate it to leave the original model.\n",
    "\n",
    "However, extend() generates a new model, so duplicated() is not needed."
   ]
  },
  {
   "cell_type": "markdown",
   "id": "1e3408fc-3161-4f91-86b5-ca09f0322cdf",
   "metadata": {},
   "source": [
    "### extend()"
   ]
  },
  {
   "cell_type": "markdown",
   "id": "44e39c7e-31ce-4cf1-a58a-a66c41340553",
   "metadata": {},
   "source": [
    "You can extend the unit cell with a 2x2 matrix. The matrix need not be diagonal, but it should have a positive determinant."
   ]
  },
  {
   "cell_type": "code",
   "execution_count": 18,
   "id": "fe4302d6-7747-4343-98c5-eecfccd271fe",
   "metadata": {},
   "outputs": [],
   "source": [
    "extended = TBmodel.extend([[2,1],[-1,3]])"
   ]
  },
  {
   "cell_type": "code",
   "execution_count": 19,
   "id": "a306a3d9-f9be-4bb1-b8ff-531d76cc295e",
   "metadata": {},
   "outputs": [
    {
     "data": {
      "text/plain": [
       "{(0, ('A', (0, 0))): [0, 0],\n",
       " (0, ('B', (0, 0))): [1, sqrt(3)],\n",
       " (0, ('A', (1, 0))): [3/2, sqrt(3)/2],\n",
       " (0, ('B', (1, 0))): [5/2, 3*sqrt(3)/2],\n",
       " (0, ('A', (2, 0))): [3, sqrt(3)],\n",
       " (0, ('B', (2, 0))): [4, 2*sqrt(3)],\n",
       " (0, ('A', (1, 1))): [3/2, 3*sqrt(3)/2],\n",
       " (0, ('B', (1, 1))): [5/2, 5*sqrt(3)/2],\n",
       " (0, ('A', (2, 1))): [3, 2*sqrt(3)],\n",
       " (0, ('B', (2, 1))): [4, 3*sqrt(3)],\n",
       " (0, ('A', (1, 2))): [3/2, 5*sqrt(3)/2],\n",
       " (0, ('B', (1, 2))): [5/2, 7*sqrt(3)/2],\n",
       " (0, ('A', (2, 2))): [3, 3*sqrt(3)],\n",
       " (0, ('B', (2, 2))): [4, 4*sqrt(3)]}"
      ]
     },
     "execution_count": 19,
     "metadata": {},
     "output_type": "execute_result"
    }
   ],
   "source": [
    "extended.atoms"
   ]
  },
  {
   "cell_type": "markdown",
   "id": "235c7134-0eec-4237-8072-67d8d321435d",
   "metadata": {},
   "source": [
    "### merge(TBmodel)"
   ]
  },
  {
   "cell_type": "markdown",
   "id": "298fe7c7-d448-4733-9fe5-cae6400a4203",
   "metadata": {},
   "source": [
    "You can merge two TB models with the \"same\" lattice. Inputed model is piled over the original model and layer number is increased likewise."
   ]
  },
  {
   "cell_type": "code",
   "execution_count": 20,
   "id": "fdfac7ae-7939-4694-a91a-ecb0cbcaffef",
   "metadata": {},
   "outputs": [],
   "source": [
    "merged_model = TBmodel.duplicated().merge(TBmodel)"
   ]
  },
  {
   "cell_type": "code",
   "execution_count": 21,
   "id": "5f8de3a0-b2bc-433d-b85a-8d0902f89aa5",
   "metadata": {},
   "outputs": [
    {
     "data": {
      "text/plain": [
       "{(0, 'A'): [0, 0],\n",
       " (0, 'B'): [1, sqrt(3)],\n",
       " (1, 'A'): [0, 0],\n",
       " (1, 'B'): [1, sqrt(3)]}"
      ]
     },
     "execution_count": 21,
     "metadata": {},
     "output_type": "execute_result"
    }
   ],
   "source": [
    "merged_model.atoms"
   ]
  },
  {
   "cell_type": "code",
   "execution_count": 22,
   "id": "69ef41c6-22bf-4b14-9088-a69d8d96f3db",
   "metadata": {},
   "outputs": [
    {
     "data": {
      "text/plain": [
       "[{'A', 'B'}, {'A', 'B'}]"
      ]
     },
     "execution_count": 22,
     "metadata": {},
     "output_type": "execute_result"
    }
   ],
   "source": [
    "merged_model.layers"
   ]
  },
  {
   "cell_type": "markdown",
   "id": "be60f433-9f8c-43f9-95e2-26a70849eec5",
   "metadata": {},
   "source": [
    "### translate(v)"
   ]
  },
  {
   "cell_type": "markdown",
   "id": "6eae2433-73bc-4471-a0a7-f11406e9eb6a",
   "metadata": {},
   "source": [
    "You can translate the crystal with vector v. The dimension of the resulting atom position is the maximum value of the original dimension and the dimension of v."
   ]
  },
  {
   "cell_type": "code",
   "execution_count": 23,
   "id": "597e752b-4b03-4f19-ac51-6ed421e49093",
   "metadata": {},
   "outputs": [
    {
     "name": "stdout",
     "output_type": "stream",
     "text": [
      "{(0, 'A'): [1, 0, 1], (0, 'B'): [2, sqrt(3), 1]}\n"
     ]
    }
   ],
   "source": [
    "v = [1,0,1]\n",
    "print(TBmodel.duplicated().translate(v).atoms)"
   ]
  },
  {
   "cell_type": "markdown",
   "id": "0181acd3-e8b2-4416-8a11-abee6f94584d",
   "metadata": {},
   "source": [
    "### rotate(angle or sine)"
   ]
  },
  {
   "cell_type": "markdown",
   "id": "4c375067-cfab-41b8-ae03-1e6740d2b357",
   "metadata": {},
   "source": [
    "Entering angle or the sine value, you can rotate the crystal along the z-axis."
   ]
  },
  {
   "cell_type": "code",
   "execution_count": 24,
   "id": "472319b5-2bbd-4968-aecf-c282907e141b",
   "metadata": {},
   "outputs": [
    {
     "name": "stdout",
     "output_type": "stream",
     "text": [
      "{(0, 'A'): [0, 0], (0, 'B'): [-sqrt(6)/3 + sqrt(7)/3, sqrt(2)/3 + sqrt(21)/3]}\n",
      "{(0, 'A'): [0, 0], (0, 'B'): [-sqrt(6)/3 + sqrt(7)/3, sqrt(2)/3 + sqrt(21)/3]}\n"
     ]
    }
   ],
   "source": [
    "angle = sp.acos('sqrt(7)/3')\n",
    "print(TBmodel.duplicated().rotate(angle = angle).atoms)\n",
    "print(TBmodel.duplicated().rotate(sine = sp.sin(angle)).atoms)"
   ]
  }
 ],
 "metadata": {
  "kernelspec": {
   "display_name": "Python 3 (ipykernel)",
   "language": "python",
   "name": "python3"
  },
  "language_info": {
   "codemirror_mode": {
    "name": "ipython",
    "version": 3
   },
   "file_extension": ".py",
   "mimetype": "text/x-python",
   "name": "python",
   "nbconvert_exporter": "python",
   "pygments_lexer": "ipython3",
   "version": "3.9.20"
  }
 },
 "nbformat": 4,
 "nbformat_minor": 5
}
